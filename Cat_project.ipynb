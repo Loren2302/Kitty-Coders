{
 "cells": [
  {
   "cell_type": "code",
   "execution_count": null,
   "id": "a4aa5cd4-5a09-42b8-bc82-c2e9bca629e3",
   "metadata": {},
   "outputs": [],
   "source": [
    "from datetime import datetime\n",
    "class Schedule:\n",
    "    \"Creates an object for a student's class schedule\n",
    "    def __init__(self):\n",
    "        \"\"\"Initializes an empty list of events for the schedule.\"\"\"\n",
    "        self.events = []\n",
    "        \n",
    "    def remove_event(self, title):\n",
    "        \"\"\"Removes an event from the schedule based on the title.\n",
    "\n",
    "         title: The title of the event to be removed.\n",
    "        \"\"\"\n",
    "        self.events = [event for event in self.events if event.title != title]\n",
    "        print(f\"Event '{title}' removed from the schedule.\")\n",
    "\n",
    "    def add_event(self, event):\n",
    "        \"\"\"Adds an event to the schedule, checking for conflicts.\n",
    "\n",
    "        :param event: An instance of the Event class.\n",
    "        \"\"\"\n",
    "        if not self.has_conflict(event):\n",
    "            self.events.append(event)\n",
    "            print(f\"Event '{event.title}' added toschedule.\")\n",
    "        else:\n",
    "            print(f\"Conflict detected: '{event.title}' overlaps with another event.\")\n",
    "\n",
    "    def has_conflict(self, new_event):\n",
    "        \"\"\"Checks if a new event conflicts with existing events.\n",
    "\n",
    "        Args:\n",
    "             new_event: An instance of the Event class to check.\n",
    "        :return: True if there is a conflict, otherwise False.\n",
    "        \"\"\"\n",
    "        for event in self.events:\n",
    "            if (new_event.start_time < event.end_time and new_event.end_time > event.start_time):\n",
    "                return True\n",
    "        return False\n",
    "\n",
    "    def upcoming_events(self, days=7):\n",
    "        \"\"\"Retrieves events occurring within the next specified number of days.\n",
    "\n",
    "        Args\n",
    "             days: The number of days to look ahead for upcoming events.\n",
    "        return: A list of events happening within the specified time range.\n",
    "        \"\"\"\n",
    "        now = datetime.now()\n",
    "        future_date = now + timedelta(days=days)\n",
    "        return [event for event in self.events if now <= event.start_time <= future_date]\n",
    "\n",
    "    def __repr__(self):\n",
    "        \"\"\"String representation of the schedule showing all events.\"\"\"\n",
    "        if not self.events:\n",
    "            return \"The schedule is empty.\"\n",
    "        return \"\\n\".join([str(event) for event in sorted(self.events, key=lambda x: x.start_time)])\n"
   ]
  }
 ],
 "metadata": {
  "kernelspec": {
   "display_name": "Python 3 (ipykernel)",
   "language": "python",
   "name": "python3"
  },
  "language_info": {
   "codemirror_mode": {
    "name": "ipython",
    "version": 3
   },
   "file_extension": ".py",
   "mimetype": "text/x-python",
   "name": "python",
   "nbconvert_exporter": "python",
   "pygments_lexer": "ipython3",
   "version": "3.8.18"
  }
 },
 "nbformat": 4,
 "nbformat_minor": 5
}
